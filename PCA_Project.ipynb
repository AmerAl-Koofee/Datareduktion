{
 "cells": [
  {
   "cell_type": "code",
   "execution_count": null,
   "metadata": {},
   "outputs": [],
   "source": [
    "import pandas as pd\n",
    "\n",
    "import umap\n",
    "\n",
    "from sklearn.decomposition import PCA\n",
    "from sklearn.preprocessing import StandardScaler, MinMaxScaler\n",
    "from sklearn.metrics import silhouette_score\n",
    "from sklearn.cluster import KMeans\n",
    "\n",
    "import matplotlib.pyplot as plt\n",
    "import seaborn as sns\n",
    "import plotly.express as px\n",
    "import plotly.graph_objects as go"
   ]
  },
  {
   "cell_type": "code",
   "execution_count": null,
   "metadata": {},
   "outputs": [],
   "source": [
    "df = pd.read_csv('cleaned_data.csv')"
   ]
  },
  {
   "cell_type": "code",
   "execution_count": null,
   "metadata": {},
   "outputs": [],
   "source": [
    "df.head()"
   ]
  },
  {
   "cell_type": "code",
   "execution_count": null,
   "metadata": {},
   "outputs": [],
   "source": [
    "df.info()"
   ]
  },
  {
   "cell_type": "code",
   "execution_count": null,
   "metadata": {},
   "outputs": [],
   "source": [
    "df.describe()"
   ]
  },
  {
   "cell_type": "code",
   "execution_count": null,
   "metadata": {},
   "outputs": [],
   "source": [
    "correlation = df['Floor_area'].corr(df['Price_in_taka'])\n",
    "\n",
    "print(f\"Pearson correlation coefficient between Floor_area and Price_in_taka: {correlation}\")"
   ]
  },
  {
   "cell_type": "code",
   "execution_count": null,
   "metadata": {},
   "outputs": [],
   "source": [
    "plt.figure(figsize=(10, 6))\n",
    "sns.regplot(x='Floor_area', y='Price_in_taka', data=df, scatter_kws={'s': 50}, line_kws={'color': 'red'})\n",
    "\n",
    "plt.xlabel('Floor Area (sq ft)')\n",
    "plt.ylabel('Price in Taka')\n",
    "plt.title('Scatter Plot with Regression Line: Floor Area vs Price in Taka')\n",
    "\n",
    "plt.show()"
   ]
  },
  {
   "cell_type": "code",
   "execution_count": null,
   "metadata": {},
   "outputs": [],
   "source": [
    "scaler = StandardScaler()\n",
    "df_scaled_standard = scaler.fit_transform(df.iloc[:, :-1])"
   ]
  },
  {
   "cell_type": "code",
   "execution_count": null,
   "metadata": {},
   "outputs": [],
   "source": [
    "df_scaled_standard = pd.DataFrame(df_scaled_standard, columns= ['Bedrooms', 'Bathrooms', 'Floor_area', 'Price_in_taka'])\n",
    "df_scaled_standard.describe().round(3)"
   ]
  },
  {
   "cell_type": "code",
   "execution_count": null,
   "metadata": {},
   "outputs": [],
   "source": [
    "scaler = MinMaxScaler()\n",
    "df_scaled_minmax = scaler.fit_transform(df.iloc[:, :-1])"
   ]
  },
  {
   "cell_type": "code",
   "execution_count": null,
   "metadata": {},
   "outputs": [],
   "source": [
    "df_scaled_minmax = pd.DataFrame(df_scaled_minmax, columns= ['Bedrooms', 'Bathrooms', 'Floor_area', 'Price_in_taka'])\n",
    "df_scaled_minmax.describe().round(3)"
   ]
  },
  {
   "cell_type": "markdown",
   "metadata": {},
   "source": [
    "## PCA"
   ]
  },
  {
   "cell_type": "code",
   "execution_count": null,
   "metadata": {},
   "outputs": [],
   "source": [
    "pca = PCA(n_components=2)\n",
    "pca = pca.fit(df_scaled_minmax)"
   ]
  },
  {
   "cell_type": "code",
   "execution_count": null,
   "metadata": {},
   "outputs": [],
   "source": [
    "explained_variance = pca.explained_variance_ratio_\n",
    "\n",
    "explained_variance = pd.DataFrame(explained_variance, index=[f'PC{i+1}' for i in range(2)], columns=['Explained Variance'])\n",
    "\n",
    "explained_variance"
   ]
  },
  {
   "cell_type": "code",
   "execution_count": null,
   "metadata": {},
   "outputs": [],
   "source": [
    "loadings = pca.components_\n",
    "\n",
    "loadings = pd.DataFrame(loadings.T, index=df.columns[:-1], columns=[f'PC{i+1}' for i in range(2)])\n",
    "\n",
    "loadings"
   ]
  },
  {
   "cell_type": "code",
   "execution_count": null,
   "metadata": {},
   "outputs": [],
   "source": [
    "plt.figure(figsize=(8, 6))\n",
    "loadings.plot(kind='bar', color=['skyblue','red'])\n",
    "plt.title('Feature Loadings for the Principal Component')\n",
    "plt.xlabel('Features')\n",
    "plt.ylabel('Loading')\n",
    "plt.xticks(rotation=45)\n",
    "plt.grid(True)\n",
    "plt.show()"
   ]
  },
  {
   "cell_type": "code",
   "execution_count": null,
   "metadata": {},
   "outputs": [],
   "source": [
    "transform_pca =pca.transform(df_scaled_minmax)\n",
    "transform_pca"
   ]
  },
  {
   "cell_type": "code",
   "execution_count": null,
   "metadata": {},
   "outputs": [],
   "source": [
    "fig = px.scatter(\n",
    "    x=transform_pca[:, 0], \n",
    "    y=transform_pca[:, 1], \n",
    "    labels={'x': 'Principal Component 1', 'y': 'Principal Component 2'},\n",
    "    title='2D PCA Projection MinMax',\n",
    "        hover_data={\n",
    "        'Bedrooms': df['Bedrooms'],\n",
    "        'Bathrooms': df['Bathrooms'],\n",
    "        'Area': df['Floor_area'],\n",
    "        'Price': df['Price_in_taka']\n",
    "    },\n",
    "    color_continuous_scale='Viridis'\n",
    ")\n",
    "\n",
    "fig.update_traces(marker=dict(size=8, line=dict(width=1, color='DarkSlateGrey')), mode='markers')\n",
    "\n",
    "fig.update_layout(\n",
    "    xaxis_title=\"Principal Component 1\",\n",
    "    yaxis_title=\"Principal Component 2\",\n",
    "    plot_bgcolor='red',\n",
    "    xaxis_showgrid=True,\n",
    "    yaxis_showgrid=True,\n",
    "    title_font_size=20\n",
    ")\n",
    "\n",
    "fig.show()"
   ]
  },
  {
   "cell_type": "code",
   "execution_count": null,
   "metadata": {},
   "outputs": [],
   "source": [
    "df_pca = pd.DataFrame(transform_pca, columns=['PC1', 'PC2'])\n",
    "\n",
    "df_pca.head()"
   ]
  },
  {
   "cell_type": "code",
   "execution_count": null,
   "metadata": {},
   "outputs": [],
   "source": [
    "df = pd.concat([df, df_pca], axis=1)\n",
    "\n",
    "df.head()"
   ]
  },
  {
   "cell_type": "markdown",
   "metadata": {},
   "source": [
    "## K-Means"
   ]
  },
  {
   "cell_type": "code",
   "execution_count": null,
   "metadata": {},
   "outputs": [],
   "source": [
    "inertia_values = []\n",
    "for k in range(1, 10):\n",
    "    kmeans = KMeans(n_clusters=k, random_state=42, max_iter=100000000, init='k-means++')\n",
    "    kmeans.fit(transform_pca)\n",
    "    inertia_values.append(kmeans.inertia_)\n",
    "\n",
    "plt.plot(range(1, 10), inertia_values, marker='o')\n",
    "plt.xlabel('Number of clusters')\n",
    "plt.ylabel('Inertia')\n",
    "plt.title('Elbow Method for Optimal k')\n",
    "plt.show()"
   ]
  },
  {
   "cell_type": "code",
   "execution_count": null,
   "metadata": {},
   "outputs": [],
   "source": [
    "inertia_values"
   ]
  },
  {
   "cell_type": "code",
   "execution_count": null,
   "metadata": {},
   "outputs": [],
   "source": [
    "kmeans = KMeans(n_clusters=4, random_state=42, max_iter= 100000000 , algorithm='lloyd', init='k-means++')\n",
    "clusters = kmeans.fit_predict(transform_pca)"
   ]
  },
  {
   "cell_type": "code",
   "execution_count": null,
   "metadata": {},
   "outputs": [],
   "source": [
    "inertia = kmeans.inertia_\n",
    "inertia"
   ]
  },
  {
   "cell_type": "code",
   "execution_count": null,
   "metadata": {},
   "outputs": [],
   "source": [
    "score = silhouette_score(transform_pca, clusters)\n",
    "print(f'Silhouette Score: {score}')"
   ]
  },
  {
   "cell_type": "code",
   "execution_count": null,
   "metadata": {},
   "outputs": [],
   "source": [
    "centroids = kmeans.cluster_centers_\n",
    "centroids"
   ]
  },
  {
   "cell_type": "code",
   "execution_count": null,
   "metadata": {},
   "outputs": [],
   "source": [
    "fig = px.scatter(\n",
    "    x=transform_pca[:, 0], \n",
    "    y=transform_pca[:, 1], \n",
    "    color=clusters, \n",
    "    labels={'x': 'Principal Component 1', 'y': 'Principal Component 2'},\n",
    "    title='K-means Clustering on 2D PCA Projection',\n",
    "        hover_data={\n",
    "        'Bedrooms': df['Bedrooms'],\n",
    "        'Bathrooms': df['Bathrooms'],\n",
    "        'Area': df['Floor_area'],\n",
    "        'Price': df['Price_in_taka']\n",
    "    },\n",
    "    color_continuous_scale='Viridis'\n",
    ")\n",
    "\n",
    "fig.update_traces(marker=dict(size=8, line=dict(width=1, color='DarkSlateGrey')), mode='markers')\n",
    "\n",
    "fig.add_trace(go.Scatter(\n",
    "    x=centroids[:, 0],\n",
    "    y=centroids[:, 1],\n",
    "    mode='markers',\n",
    "    marker=dict(color='red', size=15, symbol='x'),\n",
    "    name='Centroids',\n",
    "    showlegend=False\n",
    "))\n",
    "\n",
    "fig.update_layout(\n",
    "    xaxis_title=\"Principal Component 1\",\n",
    "    yaxis_title=\"Principal Component 2\",\n",
    "    plot_bgcolor='white',\n",
    "    xaxis_showgrid=True,\n",
    "    yaxis_showgrid=True,\n",
    "    title_font_size=20\n",
    ")\n",
    "\n",
    "fig.show()"
   ]
  },
  {
   "cell_type": "code",
   "execution_count": null,
   "metadata": {},
   "outputs": [],
   "source": [
    "df['Cluster'] = clusters\n",
    "\n",
    "centroids = df.groupby('Cluster').mean()\n",
    "\n",
    "cluster_summary = df.groupby('Cluster').agg(['mean', 'std'])"
   ]
  },
  {
   "cell_type": "code",
   "execution_count": null,
   "metadata": {},
   "outputs": [],
   "source": [
    "centroids.iloc[:, :4].sort_values(by='Price_in_taka', ascending=True)"
   ]
  },
  {
   "cell_type": "code",
   "execution_count": null,
   "metadata": {},
   "outputs": [],
   "source": [
    "cluster_summary.iloc[:, :-6]"
   ]
  },
  {
   "cell_type": "code",
   "execution_count": null,
   "metadata": {},
   "outputs": [],
   "source": [
    "df.head()"
   ]
  },
  {
   "cell_type": "code",
   "execution_count": null,
   "metadata": {},
   "outputs": [],
   "source": [
    "clusters = ['Cluster 0', 'Cluster 1', 'Cluster 2', 'Cluster 3']\n",
    "\n",
    "bedrooms_mean = cluster_summary[('Bedrooms', 'mean')].tolist()\n",
    "bedrooms_std = cluster_summary[('Bedrooms', 'std')].tolist()\n",
    "\n",
    "bathrooms_mean = cluster_summary[('Bathrooms', 'mean')].tolist()\n",
    "bathrooms_std = cluster_summary[('Bathrooms', 'std')].tolist()\n",
    "\n",
    "floor_area_mean = cluster_summary[('Floor_area', 'mean')].tolist()\n",
    "floor_area_std = cluster_summary[('Floor_area', 'std')].tolist()\n",
    "\n",
    "price_mean = cluster_summary[('Price_in_taka', 'mean')].tolist()\n",
    "price_std = cluster_summary[('Price_in_taka', 'std')].tolist()\n",
    "\n",
    "fig, ax = plt.subplots(2, 2, figsize=(12, 8))\n",
    "\n",
    "ax[0, 0].bar(clusters, bedrooms_mean, yerr=bedrooms_std, color='skyblue', capsize=5)\n",
    "ax[0, 0].set_title('Bedrooms')\n",
    "ax[0, 0].set_ylabel('Mean ± Std')\n",
    "ax[0, 0].grid(True)\n",
    "\n",
    "ax[0, 1].bar(clusters, bathrooms_mean, yerr=bathrooms_std, color='salmon', capsize=5)\n",
    "ax[0, 1].set_title('Bathrooms')\n",
    "ax[0, 1].set_ylabel('Mean ± Std')\n",
    "ax[0, 1].grid(True)\n",
    "\n",
    "ax[1, 0].bar(clusters, floor_area_mean, yerr=floor_area_std, color='lightgreen', capsize=5)\n",
    "ax[1, 0].set_title('Floor Area')\n",
    "ax[1, 0].set_ylabel('Mean ± Std')\n",
    "ax[1, 0].grid(True)\n",
    "\n",
    "ax[1, 1].bar(clusters, price_mean, yerr=price_std, color='orange', capsize=5)\n",
    "ax[1, 1].set_title('Price in Taka')\n",
    "ax[1, 1].set_ylabel('Mean ± Std')\n",
    "ax[1, 1].grid(True)\n",
    "\n",
    "plt.tight_layout()\n",
    "plt.show()"
   ]
  },
  {
   "cell_type": "markdown",
   "metadata": {},
   "source": [
    "##############################################################################################"
   ]
  },
  {
   "cell_type": "code",
   "execution_count": null,
   "metadata": {},
   "outputs": [],
   "source": [
    "n_neighbors_values = [5, 10, 20, 50, 100, 200, 500, 1000]\n",
    "\n",
    "n_clusters_list = [2, 3, 4, 5, 6, 7, 8, 9, 10]\n",
    "\n",
    "best_score = -1\n",
    "best_n_neighbors = None\n",
    "best_n_clusters = None\n",
    "best_kmeans = None\n",
    "\n",
    "for n_neighbors in n_neighbors_values:\n",
    "    for n_clusters in n_clusters_list:\n",
    "        \n",
    "        reducer = umap.UMAP(n_components=2, n_neighbors=n_neighbors, random_state=123)\n",
    "        umap_results = reducer.fit_transform(df_scaled_minmax)\n",
    "    \n",
    "        kmeans = KMeans(n_clusters=n_clusters, random_state=123)\n",
    "        cluster_labels = kmeans.fit_predict(umap_results)\n",
    "    \n",
    "        score = silhouette_score(umap_results, cluster_labels)\n",
    "\n",
    "        if score > best_score:\n",
    "            best_score = score\n",
    "            best_n_neighbors = n_neighbors\n",
    "            best_n_clusters = n_clusters\n",
    "\n",
    "print(f'Best n_neighbors: {best_n_neighbors}, Best n_clusters: {best_n_clusters}, Best Silhouette Score: {best_score}')"
   ]
  },
  {
   "cell_type": "markdown",
   "metadata": {},
   "source": [
    "UMAP"
   ]
  },
  {
   "cell_type": "code",
   "execution_count": null,
   "metadata": {},
   "outputs": [],
   "source": [
    "reducer = umap.UMAP(n_components=2,\n",
    "                    random_state=123,\n",
    "                    n_neighbors=1000,\n",
    "                    metric='euclidean')\n",
    "umap_result = reducer.fit_transform(df_scaled_minmax)"
   ]
  },
  {
   "cell_type": "code",
   "execution_count": null,
   "metadata": {},
   "outputs": [],
   "source": [
    "umap_df = pd.DataFrame(data=umap_result, columns=['UMAP 1', 'UMAP 2'])\n",
    "\n",
    "umap_df['Bedrooms'] = df['Bedrooms']\n",
    "umap_df['Bathrooms'] = df['Bathrooms']\n",
    "umap_df['Floor_area'] = df['Floor_area']\n",
    "umap_df['Price_in_taka'] = df['Price_in_taka']"
   ]
  },
  {
   "cell_type": "code",
   "execution_count": null,
   "metadata": {},
   "outputs": [],
   "source": [
    "umap_df"
   ]
  },
  {
   "cell_type": "code",
   "execution_count": null,
   "metadata": {},
   "outputs": [],
   "source": [
    "fig = px.scatter(umap_df, x='UMAP 1', y='UMAP 2', title='UMAP of Housing Data', hover_data=['Bedrooms', 'Bathrooms', 'Floor_area', 'Price_in_taka'])\n",
    "fig.show()"
   ]
  },
  {
   "cell_type": "code",
   "execution_count": null,
   "metadata": {},
   "outputs": [],
   "source": [
    "kmeans = KMeans(n_clusters=6, random_state=123)\n",
    "cluster_labels = kmeans.fit_predict(umap_result)"
   ]
  },
  {
   "cell_type": "code",
   "execution_count": null,
   "metadata": {},
   "outputs": [],
   "source": [
    "fig = px.scatter(\n",
    "    x=umap_result[:, 0], \n",
    "    y=umap_result[:, 1], \n",
    "    color=cluster_labels, \n",
    "    labels={'x': 'UMAP 1', 'y': 'UMAP 2'},\n",
    "    title='K-means Clustering on 2D UMAP Projection',\n",
    "        hover_data={\n",
    "        'Bedrooms': df['Bedrooms'],\n",
    "        'Bathrooms': df['Bathrooms'],\n",
    "        'Area': df['Floor_area'],\n",
    "        'Price': df['Price_in_taka']\n",
    "    },\n",
    "    color_continuous_scale='Viridis'\n",
    ")\n",
    "\n",
    "fig.update_traces(marker=dict(size=8, line=dict(width=1, color='DarkSlateGrey')), mode='markers')\n",
    "\n",
    "fig.update_layout(\n",
    "    xaxis_title=\"UMAP 1\",\n",
    "    yaxis_title=\"UMAP 2\",\n",
    "    plot_bgcolor='white',\n",
    "    xaxis_showgrid=True,\n",
    "    yaxis_showgrid=True,\n",
    "    title_font_size=20\n",
    ")\n",
    "\n",
    "fig.show()"
   ]
  },
  {
   "cell_type": "code",
   "execution_count": null,
   "metadata": {},
   "outputs": [],
   "source": [
    "umap_df['Cluster'] = cluster_labels\n",
    "\n",
    "cluster_summary = umap_df.groupby('Cluster').agg(['mean', 'std'])"
   ]
  },
  {
   "cell_type": "code",
   "execution_count": null,
   "metadata": {},
   "outputs": [],
   "source": [
    "centroids = umap_df.groupby('Cluster').mean()"
   ]
  },
  {
   "cell_type": "code",
   "execution_count": null,
   "metadata": {},
   "outputs": [],
   "source": [
    "umap_df"
   ]
  },
  {
   "cell_type": "code",
   "execution_count": null,
   "metadata": {},
   "outputs": [],
   "source": [
    "centroids.iloc[:, 2:6].sort_values(by='Price_in_taka', ascending=True)"
   ]
  },
  {
   "cell_type": "code",
   "execution_count": null,
   "metadata": {},
   "outputs": [],
   "source": [
    "clusters = ['Cluster 0', 'Cluster 1', 'Cluster 2', 'Cluster 3', 'Cluster 4', 'Cluster 5']\n",
    "\n",
    "bedrooms_mean = cluster_summary[('Bedrooms', 'mean')].tolist()\n",
    "bedrooms_std = cluster_summary[('Bedrooms', 'std')].tolist()\n",
    "\n",
    "bathrooms_mean = cluster_summary[('Bathrooms', 'mean')].tolist()\n",
    "bathrooms_std = cluster_summary[('Bathrooms', 'std')].tolist()\n",
    "\n",
    "floor_area_mean = cluster_summary[('Floor_area', 'mean')].tolist()\n",
    "floor_area_std = cluster_summary[('Floor_area', 'std')].tolist()\n",
    "\n",
    "price_mean = cluster_summary[('Price_in_taka', 'mean')].tolist()\n",
    "price_std = cluster_summary[('Price_in_taka', 'std')].tolist()\n",
    "\n",
    "fig, ax = plt.subplots(2, 2, figsize=(12, 9))\n",
    "\n",
    "ax[0, 0].bar(clusters, bedrooms_mean, yerr=bedrooms_std, color='skyblue', capsize=5)\n",
    "ax[0, 0].set_title('Bedrooms')\n",
    "ax[0, 0].set_ylabel('Mean ± Std')\n",
    "ax[0, 0].grid(True)\n",
    "\n",
    "ax[0, 1].bar(clusters, bathrooms_mean, yerr=bathrooms_std, color='salmon', capsize=5)\n",
    "ax[0, 1].set_title('Bathrooms')\n",
    "ax[0, 1].set_ylabel('Mean ± Std')\n",
    "ax[0, 1].grid(True)\n",
    "\n",
    "ax[1, 0].bar(clusters, floor_area_mean, yerr=floor_area_std, color='lightgreen', capsize=5)\n",
    "ax[1, 0].set_title('Floor Area')\n",
    "ax[1, 0].set_ylabel('Mean ± Std')\n",
    "ax[1, 0].grid(True)\n",
    "\n",
    "ax[1, 1].bar(clusters, price_mean, yerr=price_std, color='orange', capsize=5)\n",
    "ax[1, 1].set_title('Price in Taka')\n",
    "ax[1, 1].set_ylabel('Mean ± Std')\n",
    "ax[1, 1].grid(True)\n",
    "\n",
    "plt.tight_layout()\n",
    "plt.show()"
   ]
  }
 ],
 "metadata": {
  "kernelspec": {
   "display_name": "venv",
   "language": "python",
   "name": "python3"
  },
  "language_info": {
   "codemirror_mode": {
    "name": "ipython",
    "version": 3
   },
   "file_extension": ".py",
   "mimetype": "text/x-python",
   "name": "python",
   "nbconvert_exporter": "python",
   "pygments_lexer": "ipython3",
   "version": "3.12.2"
  }
 },
 "nbformat": 4,
 "nbformat_minor": 2
}
